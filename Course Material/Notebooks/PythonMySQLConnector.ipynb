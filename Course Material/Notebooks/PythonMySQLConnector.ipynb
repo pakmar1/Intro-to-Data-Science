{
 "cells": [
  {
   "cell_type": "markdown",
   "metadata": {},
   "source": [
    "## Installing and using the Python connector for MySQL"
   ]
  },
  {
   "cell_type": "markdown",
   "metadata": {},
   "source": [
    "On Unix systems, you can 'pip install mysql-connector'.  Depending on how you installed MySQL you may need to do that as root."
   ]
  },
  {
   "cell_type": "code",
   "execution_count": 20,
   "metadata": {
    "collapsed": true
   },
   "outputs": [],
   "source": [
    "import mysql.connector"
   ]
  },
  {
   "cell_type": "markdown",
   "metadata": {
    "collapsed": true
   },
   "source": [
    "The code below assumes you've loaded the empoyee database into MySQL.\n",
    "\n",
    "https://dev.mysql.com/doc/employee/en/employees-installation.html"
   ]
  },
  {
   "cell_type": "markdown",
   "metadata": {},
   "source": [
    "Connect to the database, which requires credentials"
   ]
  },
  {
   "cell_type": "code",
   "execution_count": 21,
   "metadata": {
    "collapsed": false
   },
   "outputs": [],
   "source": [
    "cnx = mysql.connector.connect(user='oates', password='mysqlpassword',\n",
    "                              host='localhost',\n",
    "                              database='employees')"
   ]
  },
  {
   "cell_type": "markdown",
   "metadata": {},
   "source": [
    "Let's run a query"
   ]
  },
  {
   "cell_type": "code",
   "execution_count": 22,
   "metadata": {
    "collapsed": false
   },
   "outputs": [
    {
     "name": "stdout",
     "output_type": "stream",
     "text": [
      "Awdeh, Satosi was hired on 18 May 1988\n",
      "Azuma, Mona was hired on 02 Mar 1990\n",
      "Aingworth, Eben was hired on 19 Dec 1990\n",
      "Auria, Yucel was hired on 14 Mar 1991\n",
      "Azumi, Douadi was hired on 10 Oct 1995\n",
      "Aloisi, Nigel was hired on 02 Nov 1985\n",
      "Ananiadou, Aleksandar was hired on 11 Jan 1988\n",
      "Awdeh, Vidya was hired on 16 Oct 1985\n",
      "Anandan, Girolamo was hired on 11 Oct 1992\n",
      "Alpin, Yuping was hired on 10 May 1994\n",
      "Auria, Marko was hired on 04 Jun 1992\n",
      "Avouris, Mihalis was hired on 12 Dec 1992\n",
      "Alencar, Aksel was hired on 24 Oct 1990\n",
      "Apsitis, Christfried was hired on 16 Jan 1986\n",
      "Angelopoulos, Maris was hired on 28 Aug 1987\n",
      "Aumann, Leucio was hired on 19 Jun 1991\n",
      "Akaboshi, Hongzue was hired on 24 Dec 1989\n",
      "Alpin, Yinlin was hired on 30 May 1990\n",
      "Ananiadou, Munehiko was hired on 05 Jun 1985\n",
      "Anick, Zhiwei was hired on 08 Nov 1992\n"
     ]
    },
    {
     "data": {
      "text/plain": [
       "True"
      ]
     },
     "execution_count": 22,
     "metadata": {},
     "output_type": "execute_result"
    }
   ],
   "source": [
    "cursor = cnx.cursor()\n",
    "query = (\"SELECT first_name, last_name, hire_date FROM employees \"\n",
    "         \"WHERE last_name LIKE 'A%' LIMIT 20\")\n",
    "\n",
    "cursor.execute(query)\n",
    "\n",
    "for (first_name, last_name, hire_date) in cursor:\n",
    "  print(\"{}, {} was hired on {:%d %b %Y}\".format(\n",
    "    last_name, first_name, hire_date))\n",
    "\n",
    "cursor.close()\n"
   ]
  },
  {
   "cell_type": "code",
   "execution_count": 25,
   "metadata": {
    "collapsed": false
   },
   "outputs": [
    {
     "name": "stdout",
     "output_type": "stream",
     "text": [
      "Columns in result = ('emp_no', 'salary', 'from_date', 'to_date')\n",
      "Query = SELECT * FROM salaries LIMIT 20\n",
      "(10001, 60117, datetime.date(1986, 6, 26), datetime.date(1987, 6, 26))\n",
      "(10001, 62102, datetime.date(1987, 6, 26), datetime.date(1988, 6, 25))\n",
      "(10001, 66074, datetime.date(1988, 6, 25), datetime.date(1989, 6, 25))\n",
      "(10001, 66596, datetime.date(1989, 6, 25), datetime.date(1990, 6, 25))\n",
      "(10001, 66961, datetime.date(1990, 6, 25), datetime.date(1991, 6, 25))\n",
      "(10001, 71046, datetime.date(1991, 6, 25), datetime.date(1992, 6, 24))\n",
      "(10001, 74333, datetime.date(1992, 6, 24), datetime.date(1993, 6, 24))\n",
      "(10001, 75286, datetime.date(1993, 6, 24), datetime.date(1994, 6, 24))\n",
      "(10001, 75994, datetime.date(1994, 6, 24), datetime.date(1995, 6, 24))\n",
      "(10001, 76884, datetime.date(1995, 6, 24), datetime.date(1996, 6, 23))\n",
      "(10001, 80013, datetime.date(1996, 6, 23), datetime.date(1997, 6, 23))\n",
      "(10001, 81025, datetime.date(1997, 6, 23), datetime.date(1998, 6, 23))\n",
      "(10001, 81097, datetime.date(1998, 6, 23), datetime.date(1999, 6, 23))\n",
      "(10001, 84917, datetime.date(1999, 6, 23), datetime.date(2000, 6, 22))\n",
      "(10001, 85112, datetime.date(2000, 6, 22), datetime.date(2001, 6, 22))\n",
      "(10001, 85097, datetime.date(2001, 6, 22), datetime.date(2002, 6, 22))\n",
      "(10001, 88958, datetime.date(2002, 6, 22), datetime.date(9999, 1, 1))\n",
      "(10002, 65828, datetime.date(1996, 8, 3), datetime.date(1997, 8, 3))\n",
      "(10002, 65909, datetime.date(1997, 8, 3), datetime.date(1998, 8, 3))\n",
      "(10002, 67534, datetime.date(1998, 8, 3), datetime.date(1999, 8, 3))\n",
      "Number of rows = 20\n"
     ]
    },
    {
     "data": {
      "text/plain": [
       "True"
      ]
     },
     "execution_count": 25,
     "metadata": {},
     "output_type": "execute_result"
    }
   ],
   "source": [
    "cursor = cnx.cursor()\n",
    "query = (\"SELECT * FROM salaries LIMIT 20\")\n",
    "\n",
    "cursor.execute(query)\n",
    "\n",
    "print('Columns in result = ' + str(cursor.column_names))\n",
    "print('Query = ' + cursor.statement)\n",
    "row = cursor.fetchone()\n",
    "while row is not None:\n",
    "  print(row)\n",
    "  row = cursor.fetchone()\n",
    "\n",
    "print('Number of rows = ' + str(cursor.rowcount))\n",
    "\n",
    "cursor.close()\n"
   ]
  },
  {
   "cell_type": "code",
   "execution_count": null,
   "metadata": {
    "collapsed": true
   },
   "outputs": [],
   "source": []
  },
  {
   "cell_type": "code",
   "execution_count": null,
   "metadata": {
    "collapsed": true
   },
   "outputs": [],
   "source": []
  }
 ],
 "metadata": {
  "anaconda-cloud": {},
  "kernelspec": {
   "display_name": "Python [conda env:anaconda3]",
   "language": "python",
   "name": "conda-env-anaconda3-py"
  },
  "language_info": {
   "codemirror_mode": {
    "name": "ipython",
    "version": 3
   },
   "file_extension": ".py",
   "mimetype": "text/x-python",
   "name": "python",
   "nbconvert_exporter": "python",
   "pygments_lexer": "ipython3",
   "version": "3.5.2"
  }
 },
 "nbformat": 4,
 "nbformat_minor": 1
}
