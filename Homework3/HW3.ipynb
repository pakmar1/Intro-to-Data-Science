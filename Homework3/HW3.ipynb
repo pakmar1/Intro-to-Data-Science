{
 "cells": [
  {
   "cell_type": "markdown",
   "metadata": {},
   "source": [
    "## Homework Assignment 3\n",
    "### Name: Prasad Akmar\n",
    "### LE10772"
   ]
  },
  {
   "cell_type": "code",
   "execution_count": 228,
   "metadata": {},
   "outputs": [],
   "source": [
    "import pandas as pd\n",
    "import os\n",
    "import numpy as np"
   ]
  },
  {
   "cell_type": "markdown",
   "metadata": {},
   "source": [
    "## Loading the data:\n",
    "#### First of all, Loading the given mnist data and labels into local data structures.\n",
    "I am using arrays to store the data and the labels"
   ]
  },
  {
   "cell_type": "code",
   "execution_count": 229,
   "metadata": {},
   "outputs": [],
   "source": [
    "mnist_data = np.loadtxt(fname = \"https://www.csee.umbc.edu/courses/graduate/691/fall18/data-science/mnist_data.txt\", dtype = np.int)"
   ]
  },
  {
   "cell_type": "code",
   "execution_count": 230,
   "metadata": {},
   "outputs": [],
   "source": [
    "mnist_labels = np.loadtxt(fname = \"https://www.csee.umbc.edu/courses/graduate/691/fall18/data-science/mnist_labels.txt\",dtype = np.int)"
   ]
  },
  {
   "cell_type": "code",
   "execution_count": 231,
   "metadata": {},
   "outputs": [
    {
     "data": {
      "text/plain": [
       "(10000, 784)"
      ]
     },
     "execution_count": 231,
     "metadata": {},
     "output_type": "execute_result"
    }
   ],
   "source": [
    "mnist_data.shape"
   ]
  },
  {
   "cell_type": "code",
   "execution_count": 232,
   "metadata": {},
   "outputs": [
    {
     "data": {
      "text/plain": [
       "(10000,)"
      ]
     },
     "execution_count": 232,
     "metadata": {},
     "output_type": "execute_result"
    }
   ],
   "source": [
    "mnist_labels.shape"
   ]
  },
  {
   "cell_type": "markdown",
   "metadata": {},
   "source": [
    "## Converting labels:\n",
    "#### The problem given is a binary problem. We just have to find out if the given number is 8 or not.\n",
    "So converting the label data into 0s and 1s. i.e. if given number is 8, the label is 1 otherwise 0. This converted data now can be used in the binary classification problem"
   ]
  },
  {
   "cell_type": "code",
   "execution_count": 304,
   "metadata": {},
   "outputs": [],
   "source": [
    "for n, i in enumerate(mnist_labels):\n",
    "    if i == 8:\n",
    "        mnist_labels[n] = 1\n",
    "    else:\n",
    "        mnist_labels[n] = 0"
   ]
  },
  {
   "cell_type": "markdown",
   "metadata": {},
   "source": []
  },
  {
   "cell_type": "markdown",
   "metadata": {},
   "source": []
  },
  {
   "cell_type": "markdown",
   "metadata": {},
   "source": []
  },
  {
   "cell_type": "code",
   "execution_count": 321,
   "metadata": {},
   "outputs": [],
   "source": [
    "def sigmoid(mnist_data,weights):\n",
    "    scores = np.dot(mnist_data,weights)\n",
    "    return 1 / (1 + np.exp(-scores))\n",
    "\n",
    "def log_likelihood(features, target, weights):\n",
    "    scores = np.dot(features, weights)\n",
    "    ll = np.sum( target*scores - np.log(1 + np.exp(scores)) )\n",
    "    return ll\n",
    "\n",
    "def logistic_regression(mnist_data,mnist_labels,num_steps,learning_rate):\n",
    "    \n",
    "    weights = np.zeros(mnist_data.shape[1])\n",
    "    gradient = np.zeros(mnist_data.shape[1]) \n",
    "    for step in range(num_steps):\n",
    "        predictions = sigmoid(mnist_data,weights)\n",
    "\n",
    "        # Update weights with gradient\n",
    "        output_error_signal = mnist_labels - predictions\n",
    "        #for j in range(1,10000):\n",
    "        gradient += np.dot(mnist_data.T, output_error_signal)\n",
    "\n",
    "        weights += learning_rate * gradient\n",
    "        \n",
    "        # Print log-likelihood every so often\n",
    "        #if step % 100 == 0:\n",
    "        #    print(log_likelihood(mnist_data, mnist_labels, weights))\n",
    "        \n",
    "    return weights"
   ]
  },
  {
   "cell_type": "code",
   "execution_count": 348,
   "metadata": {},
   "outputs": [],
   "source": [
    "def logistic_reg(mnist_data,mnist_labels,num_steps,learning_rate):\n",
    "    weights = np.zeros(mnist_data.shape[1])\n",
    "    for step in range(num_steps):\n",
    "        gradient = np.zeros(mnist_data.shape[1])\n",
    "        for i in (1,10000):\n",
    "            predictions = sigmoid(mnist_data,weights)\n",
    "            error = mnist_labels - predictions\n",
    "            for j in (1,784):\n",
    "                gradient += np.dot(mnist_data.T, error)\n",
    "        weights += learning_rate * gradient\n",
    "    return weights"
   ]
  },
  {
   "cell_type": "code",
   "execution_count": 349,
   "metadata": {},
   "outputs": [],
   "source": [
    "weights = logistic_reg(mnist_data,mnist_labels,1000,1e-5)"
   ]
  },
  {
   "cell_type": "code",
   "execution_count": 350,
   "metadata": {},
   "outputs": [],
   "source": [
    "weights;"
   ]
  },
  {
   "cell_type": "code",
   "execution_count": 351,
   "metadata": {},
   "outputs": [
    {
     "data": {
      "image/png": "[encoded data removed]",
      "text/plain": [
       "<Figure size 1440x288 with 1 Axes>"
      ]
     },
     "metadata": {},
     "output_type": "display_data"
    }
   ],
   "source": [
    "import matplotlib.pyplot as plt\n",
    "plt.figure(figsize=(20,4))\n",
    "for index, (image, label) in enumerate(zip(weights, [8])):\n",
    "    plt.subplot(1, 5, index + 1)\n",
    "    plt.imshow(np.reshape(weights,(28,28)),cmap = plt.cm.gist_gray)\n",
    "    plt.title('Training: %i\\n' % label, fontsize = 20)"
   ]
  },
  {
   "cell_type": "code",
   "execution_count": null,
   "metadata": {},
   "outputs": [],
   "source": []
  },
  {
   "cell_type": "code",
   "execution_count": null,
   "metadata": {},
   "outputs": [],
   "source": []
  }
 ],
 "metadata": {
  "kernelspec": {
   "display_name": "Python 3",
   "language": "python",
   "name": "python3"
  },
  "language_info": {
   "codemirror_mode": {
    "name": "ipython",
    "version": 3
   },
   "file_extension": ".py",
   "mimetype": "text/x-python",
   "name": "python",
   "nbconvert_exporter": "python",
   "pygments_lexer": "ipython3",
   "version": "3.6.5"
  }
 },
 "nbformat": 4,
 "nbformat_minor": 2
}
