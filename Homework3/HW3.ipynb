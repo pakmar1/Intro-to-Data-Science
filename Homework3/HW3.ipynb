{
 "cells": [
  {
   "cell_type": "markdown",
   "metadata": {},
   "source": [
    "## Homework Assignment 3\n",
    "### Name: Prasad Akmar\n",
    "### LE10772"
   ]
  },
  {
   "cell_type": "code",
   "execution_count": 9,
   "metadata": {},
   "outputs": [],
   "source": [
    "import pandas as pd\n",
    "import os\n",
    "import numpy as np\n",
    "import time"
   ]
  },
  {
   "cell_type": "markdown",
   "metadata": {},
   "source": [
    "## Loading the data:\n",
    "#### First of all, Loading the given mnist data and labels into local data structures.\n",
    "I am using arrays to store the data and the labels"
   ]
  },
  {
   "cell_type": "code",
   "execution_count": 10,
   "metadata": {},
   "outputs": [],
   "source": [
    "mnist_data = np.loadtxt(fname = \"https://www.csee.umbc.edu/courses/graduate/691/fall18/data-science/mnist_data.txt\", dtype = np.int)"
   ]
  },
  {
   "cell_type": "code",
   "execution_count": 11,
   "metadata": {},
   "outputs": [],
   "source": [
    "mnist_labels = np.loadtxt(fname = \"https://www.csee.umbc.edu/courses/graduate/691/fall18/data-science/mnist_labels.txt\",dtype = np.int)"
   ]
  },
  {
   "cell_type": "code",
   "execution_count": 12,
   "metadata": {},
   "outputs": [
    {
     "data": {
      "text/plain": [
       "(10000, 784)"
      ]
     },
     "execution_count": 12,
     "metadata": {},
     "output_type": "execute_result"
    }
   ],
   "source": [
    "mnist_data.shape"
   ]
  },
  {
   "cell_type": "code",
   "execution_count": 13,
   "metadata": {},
   "outputs": [
    {
     "data": {
      "text/plain": [
       "(10000,)"
      ]
     },
     "execution_count": 13,
     "metadata": {},
     "output_type": "execute_result"
    }
   ],
   "source": [
    "mnist_labels.shape"
   ]
  },
  {
   "cell_type": "markdown",
   "metadata": {},
   "source": [
    "## Converting labels:\n",
    "#### The problem given is a binary problem. We just have to find out if the given number is 8 or not.\n",
    "So converting the label data into 0s and 1s. i.e. if given number is 8, the label is 1 otherwise 0. This converted data now can be used in the binary classification problem"
   ]
  },
  {
   "cell_type": "code",
   "execution_count": 14,
   "metadata": {},
   "outputs": [],
   "source": [
    "for n, i in enumerate(mnist_labels):\n",
    "    if i == 8:\n",
    "        mnist_labels[n] = 1\n",
    "    else:\n",
    "        mnist_labels[n] = 0"
   ]
  },
  {
   "cell_type": "markdown",
   "metadata": {},
   "source": [
    "Now that the input data is in place, I will devise an algorithm to make the prediction. I am using batch gradient ascent for logistic regression method to predict the values."
   ]
  },
  {
   "cell_type": "code",
   "execution_count": 15,
   "metadata": {},
   "outputs": [],
   "source": [
    "def sigmoid(scores):\n",
    "    return 1 / (1 + np.exp(-scores))\n",
    "\n",
    "def logistic_reg(mnist_data,mnist_labels,num_steps,learning_rate):\n",
    "    start = time.time()\n",
    "    weights = np.zeros(mnist_data.shape[1])\n",
    "    for step in range(num_steps):\n",
    "        gradient = np.zeros(mnist_data.shape[1])\n",
    "        for i in (1,10000):\n",
    "            scores = np.dot(mnist_data,weights)\n",
    "            predictions = sigmoid(scores)\n",
    "            error = mnist_labels - predictions\n",
    "            for j in (1,784):\n",
    "                gradient += np.dot(mnist_data.T, error)\n",
    "        weights += learning_rate * gradient\n",
    "    end = time.time()\n",
    "    print('Time taken : {0}'. format((end-start)))\n",
    "    return weights"
   ]
  },
  {
   "cell_type": "code",
   "execution_count": 16,
   "metadata": {},
   "outputs": [
    {
     "name": "stdout",
     "output_type": "stream",
     "text": [
      "Time taken : 120.48108220100403\n"
     ]
    }
   ],
   "source": [
    "weights = logistic_reg(mnist_data,mnist_labels,600,1e-3)"
   ]
  },
  {
   "cell_type": "code",
   "execution_count": 17,
   "metadata": {},
   "outputs": [
    {
     "name": "stdout",
     "output_type": "stream",
     "text": [
      "Accuracy : 92.01 %\n"
     ]
    }
   ],
   "source": [
    "final_scores = np.dot(mnist_data, weights)\n",
    "predictions = np.round(sigmoid(final_scores))\n",
    "print ('Accuracy : {0} %'.format((predictions == mnist_labels).sum().astype(float) / len(predictions)*100))"
   ]
  },
  {
   "cell_type": "code",
   "execution_count": 19,
   "metadata": {},
   "outputs": [
    {
     "data": {
      "image/png": "[encoded data removed]",
      "text/plain": [
       "<Figure size 1440x288 with 1 Axes>"
      ]
     },
     "metadata": {},
     "output_type": "display_data"
    }
   ],
   "source": [
    "import matplotlib.pyplot as plt\n",
    "plt.figure(figsize=(20,4))\n",
    "for index, (image, label) in enumerate(zip(weights, [8])):\n",
    "    plt.subplot(1, 5, index + 1)\n",
    "    plt.imshow(np.reshape(weights,(28,28)),cmap = plt.cm.gist_gray)\n",
    "    plt.title('Training: %i\\n' % label, fontsize = 20)"
   ]
  },
  {
   "cell_type": "markdown",
   "metadata": {},
   "source": [
    "# We will now introduce the lambda term in the above implementation:"
   ]
  },
  {
   "cell_type": "code",
   "execution_count": 20,
   "metadata": {},
   "outputs": [],
   "source": [
    "def logistic_regression(mnist_data,mnist_labels,num_steps,learning_rate,lmbda):\n",
    "    start = time.time()\n",
    "    weights = np.zeros(mnist_data.shape[1])\n",
    "    for step in range(num_steps):\n",
    "        gradient = np.zeros(mnist_data.shape[1])\n",
    "        for i in (1,10000):\n",
    "            scores = np.dot(mnist_data,weights)\n",
    "            predictions = sigmoid(scores)\n",
    "            error = mnist_labels - predictions\n",
    "            for j in (1,784):\n",
    "                gradient += np.dot(mnist_data.T, error)\n",
    "        weights += learning_rate * gradient\n",
    "        weights -= lmbda * np.sum(weights**2)\n",
    "    end = time.time()\n",
    "    print('Time taken : {0}'. format((end-start)))\n",
    "    return weights"
   ]
  },
  {
   "cell_type": "markdown",
   "metadata": {},
   "source": [
    "We will run the algorithm for multiple lambda iterations, and observe the value of lambdas"
   ]
  },
  {
   "cell_type": "code",
   "execution_count": 112,
   "metadata": {},
   "outputs": [
    {
     "name": "stdout",
     "output_type": "stream",
     "text": [
      "Time taken : 116.30217981338501\n",
      "Time taken : 118.86958837509155\n",
      "Time taken : 119.99864959716797\n",
      "Time taken : 119.5431535243988\n",
      "Time taken : 119.69305157661438\n",
      "Time taken : 120.09619355201721\n",
      "Time taken : 118.97213387489319\n",
      "Time taken : 119.07218790054321\n",
      "Time taken : 120.45832538604736\n",
      "Time taken : 119.78451180458069\n",
      "Time taken : 120.63154768943787\n"
     ]
    }
   ],
   "source": [
    "lam = 0\n",
    "lambda_list = []\n",
    "acc_list = []\n",
    "W = []\n",
    "while lam<=1:\n",
    "    \n",
    "    weights = logistic_regression(mnist_data,mnist_labels,600,1e-3,lam)\n",
    "    W = weights\n",
    "    final_scores = np.dot(mnist_data, weights)\n",
    "    predictions = np.round(sigmoid(final_scores))\n",
    "    acc = (predictions == mnist_labels).sum().astype(float) / len(predictions)\n",
    "    lambda_list.append(lam)\n",
    "    acc_list.append(acc)\n",
    "    lam += 0.1"
   ]
  },
  {
   "cell_type": "code",
   "execution_count": 114,
   "metadata": {},
   "outputs": [
    {
     "data": {
      "text/plain": [
       "<matplotlib.image.AxesImage at 0x7f772ace4358>"
      ]
     },
     "execution_count": 114,
     "metadata": {},
     "output_type": "execute_result"
    },
    {
     "data": {
      "image/png": "[encoded data removed]",
      "text/plain": [
       "<Figure size 432x288 with 1 Axes>"
      ]
     },
     "metadata": {},
     "output_type": "display_data"
    }
   ],
   "source": [
    "plt.imshow(np.reshape(W,(28,28)),cmap = plt.cm.gist_gray)"
   ]
  },
  {
   "cell_type": "code",
   "execution_count": 116,
   "metadata": {},
   "outputs": [
    {
     "data": {
      "image/png": "[encoded data removed]",
      "text/plain": [
       "<Figure size 432x288 with 1 Axes>"
      ]
     },
     "metadata": {},
     "output_type": "display_data"
    }
   ],
   "source": [
    "plt.plot(lambda_list, acc_list)\n",
    "plt.show()"
   ]
  },
  {
   "cell_type": "markdown",
   "metadata": {},
   "source": [
    "# From the above plot of accuracy vs. lambda, I could conclude that as the value of lambda increases, the accuracy decreses"
   ]
  },
  {
   "cell_type": "code",
   "execution_count": null,
   "metadata": {},
   "outputs": [],
   "source": []
  }
 ],
 "metadata": {
  "kernelspec": {
   "display_name": "Python 3",
   "language": "python",
   "name": "python3"
  },
  "language_info": {
   "codemirror_mode": {
    "name": "ipython",
    "version": 3
   },
   "file_extension": ".py",
   "mimetype": "text/x-python",
   "name": "python",
   "nbconvert_exporter": "python",
   "pygments_lexer": "ipython3",
   "version": "3.6.5"
  }
 },
 "nbformat": 4,
 "nbformat_minor": 2
}
